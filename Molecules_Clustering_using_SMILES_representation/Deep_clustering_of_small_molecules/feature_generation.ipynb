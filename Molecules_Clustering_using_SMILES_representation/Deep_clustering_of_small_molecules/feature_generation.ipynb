{
 "cells": [
  {
   "cell_type": "markdown",
   "id": "1d848eb5",
   "metadata": {},
   "source": [
    "# Libraries importation\n"
   ]
  },
  {
   "cell_type": "code",
   "execution_count": 2,
   "id": "04f5af23",
   "metadata": {
    "is_executing": true
   },
   "outputs": [],
   "source": [
    "import numpy as np\n",
    "\n",
    "import pandas as pd\n",
    "\n",
    "import rdkit\n",
    "from rdkit import Chem\n",
    "from rdkit.Chem import Descriptors\n",
    "\n",
    "from typing import List, Tuple, Union\n",
    "\n",
    "from sklearn.decomposition import PCA\n",
    "from sklearn import preprocessing\n",
    "from sklearn.feature_selection import VarianceThreshold"
   ]
  },
  {
   "cell_type": "markdown",
   "id": "5a5611b2",
   "metadata": {},
   "source": [
    "# Features generation"
   ]
  },
  {
   "cell_type": "code",
   "execution_count": 3,
   "id": "b71a1351",
   "metadata": {},
   "outputs": [],
   "source": [
    "def one_hot_encoding(value, choices):\n",
    "    encoding = [0] * (len(choices))\n",
    "    index = choices.index(value) if value in choices else -1\n",
    "    encoding[index] = 1\n",
    "    return encoding"
   ]
  },
  {
   "cell_type": "markdown",
   "id": "9ba8e1ea",
   "metadata": {},
   "source": [
    "### Atom features generation (Atomic Matrix)"
   ]
  },
  {
   "cell_type": "code",
   "execution_count": 4,
   "id": "dfeb032d",
   "metadata": {},
   "outputs": [],
   "source": [
    "ATOM_FEATURES = {\n",
    "    'atomic_num': list(range(118)),  # type of atom (ex. C,N,O), by atomic number, size = 118\n",
    "    'degree': [0, 1, 2, 3, 4, 5],  # number of bonds the atom is involved in, size = 6\n",
    "    'formal_charge': [-1, -2, 1, 2, 0],  # integer electronic charge assigned to atom, size = 5\n",
    "    'chiral_tag': [0, 1, 2, 3],  # chirality: unspecified, tetrahedral CW/CCW, or other, size = 4\n",
    "    'num_Hs': [0, 1, 2, 3, 4],  # number of bonded hydrogen atoms, size = 5\n",
    "    'hybridization': [\n",
    "        Chem.rdchem.HybridizationType.SP,\n",
    "        Chem.rdchem.HybridizationType.SP2,\n",
    "        Chem.rdchem.HybridizationType.SP3,\n",
    "        Chem.rdchem.HybridizationType.SP3D,\n",
    "        Chem.rdchem.HybridizationType.SP3D2\n",
    "    ],  # size = 5\n",
    "}\n",
    "\n",
    "\n",
    "def atom_features_raw(atom):\n",
    "    features = [atom.GetAtomicNum()] + \\\n",
    "               [atom.GetTotalDegree()] + \\\n",
    "               [atom.GetFormalCharge()] + \\\n",
    "               [int(atom.GetChiralTag())] + \\\n",
    "               [int(atom.GetTotalNumHs())] + \\\n",
    "               [int(atom.GetHybridization())] + \\\n",
    "               [atom.GetIsAromatic()] + \\\n",
    "               [atom.GetMass()]\n",
    "    return features\n",
    "\n",
    "\n",
    "def atom_features_onehot(atom):  # size: 151\n",
    "    features = one_hot_encoding(atom.GetAtomicNum() - 1, ATOM_FEATURES['atomic_num']) + \\\n",
    "               one_hot_encoding(atom.GetTotalDegree(), ATOM_FEATURES['degree']) + \\\n",
    "               one_hot_encoding(atom.GetFormalCharge(), ATOM_FEATURES['formal_charge']) + \\\n",
    "               one_hot_encoding(int(atom.GetChiralTag()), ATOM_FEATURES['chiral_tag']) + \\\n",
    "               one_hot_encoding(int(atom.GetTotalNumHs()), ATOM_FEATURES['num_Hs']) + \\\n",
    "               one_hot_encoding(int(atom.GetHybridization()), ATOM_FEATURES['hybridization']) + \\\n",
    "               [1 if atom.GetIsAromatic() else 0] + \\\n",
    "               [atom.GetMass() * 0.01]  # scaled to about the same range as other features\n",
    "    return features"
   ]
  },
  {
   "cell_type": "markdown",
   "id": "7432fd98",
   "metadata": {},
   "source": [
    "### Bond features generations (Bond Matrix)"
   ]
  },
  {
   "cell_type": "code",
   "execution_count": 5,
   "id": "238bd65b",
   "metadata": {},
   "outputs": [],
   "source": [
    "def bond_features_raw(bond):\n",
    "    bt = bond.GetBondType()\n",
    "    if bt == Chem.rdchem.BondType.SINGLE:\n",
    "        btt = 0\n",
    "    elif bt == Chem.rdchem.BondType.DOUBLE:\n",
    "        btt = 1\n",
    "    elif bt == Chem.rdchem.BondType.TRIPLE:\n",
    "        btt = 2\n",
    "    elif bt == Chem.rdchem.BondType.AROMATIC:\n",
    "        btt = 3\n",
    "    fbond = [btt,(bond.GetIsConjugated() if bt is not None else 0),\n",
    "             (bond.IsInRing() if bt is not None else 0), int(bond.GetStereo())]\n",
    "    \n",
    "    return fbond\n",
    "\n",
    "\n",
    "def bond_features_onehot(bond: Chem.rdchem.Bond) -> List[Union[bool, int, float]]:\n",
    "    bt = bond.GetBondType()\n",
    "    fbond = [\n",
    "        bt == Chem.rdchem.BondType.SINGLE,\n",
    "        bt == Chem.rdchem.BondType.DOUBLE,\n",
    "        bt == Chem.rdchem.BondType.TRIPLE,\n",
    "        bt == Chem.rdchem.BondType.AROMATIC,\n",
    "        (bond.GetIsConjugated() if bt is not None else 0),\n",
    "        (bond.IsInRing() if bt is not None else 0),\n",
    "    ]\n",
    "    fbond += one_hot_encoding(int(bond.GetStereo()), list(range(6)))\n",
    "    return fbond"
   ]
  },
  {
   "cell_type": "markdown",
   "id": "c3d04270",
   "metadata": {},
   "source": [
    "### Get the 200 Molecules Descriptors for each molecules"
   ]
  },
  {
   "cell_type": "code",
   "execution_count": 6,
   "id": "d89eacdb",
   "metadata": {},
   "outputs": [],
   "source": [
    "def getMolDescriptors(mol, missingVal=None):\n",
    "    ''' calculate the full list of descriptors for a molecule\n",
    "        missingVal is used if the descriptor cannot be calculated\n",
    "    '''\n",
    "    res = {}\n",
    "    for nm, fn in Descriptors._descList:\n",
    "        # some of the descriptor functions can throw errors if they fail, catch those here:\n",
    "        try:\n",
    "            val = fn(mol)\n",
    "        except:\n",
    "            # set the descriptor value to whatever missingVal is\n",
    "            val = missingVal\n",
    "        res[nm] = val\n",
    "    return res"
   ]
  },
  {
   "cell_type": "markdown",
   "id": "75bbec86",
   "metadata": {},
   "source": [
    "### Class which is doing PCA for each molecule on the features(Atmoic & Bond Matrix)"
   ]
  },
  {
   "cell_type": "code",
   "execution_count": 7,
   "id": "ce1ec5be",
   "metadata": {},
   "outputs": [],
   "source": [
    "class LocalFeatures:\n",
    "    def __init__(self, mol, onehot=False, pca=False, ids=None):\n",
    "        if type(mol) == str:\n",
    "            mol = Chem.MolFromSmiles(mol)\n",
    "\n",
    "        self.mol = mol\n",
    "        self.onehot = onehot\n",
    "        self.n_atoms = 0\n",
    "        self.n_bonds = 0\n",
    "        self.f_atoms = []\n",
    "        self.f_bonds = []\n",
    "        self.f_atoms_pca = []\n",
    "        self.f_bonds_pca = []\n",
    "        self.mol_id_atoms = []\n",
    "        self.mol_id_bonds = []\n",
    "\n",
    "        if onehot:\n",
    "            self.f_atoms = [atom_features_onehot(atom) for atom in mol.GetAtoms()]\n",
    "            self.f_bonds = [bond_features_onehot(bond) for bond in mol.GetBonds()]\n",
    "        else:\n",
    "            self.f_atoms = [atom_features_raw(atom) for atom in mol.GetAtoms()]\n",
    "            self.f_bonds = [bond_features_raw(bond) for bond in mol.GetBonds()]\n",
    "\n",
    "        self.n_atoms = len(self.f_atoms)\n",
    "        self.n_bonds = len(self.f_bonds)\n",
    "        self.f_atoms_dim = np.shape(self.f_atoms)[1]\n",
    "        self.f_bonds_dim = np.shape(self.f_bonds)[1]\n",
    "\n",
    "        if pca:\n",
    "            fa = np.array(self.f_atoms).T\n",
    "            fb = np.array(self.f_bonds).T\n",
    "            pca = PCA(n_components=1)\n",
    "            pc_atoms = pca.fit_transform(fa)\n",
    "            pc_bonds = pca.fit_transform(fb)\n",
    "\n",
    "            self.f_atoms_pca = pc_atoms.T\n",
    "            self.f_bonds_pca = pc_bonds.T\n",
    "\n",
    "        if ids is not None:\n",
    "            self.mol_id_atoms = [ids for i in range(self.n_atoms)]\n",
    "            self.mol_id_bonds = [ids for i in range(self.n_bonds)]\n"
   ]
  },
  {
   "cell_type": "code",
   "execution_count": 8,
   "id": "4bb19c7d",
   "metadata": {},
   "outputs": [],
   "source": [
    "class BatchLocalFeatures:\n",
    "    def __init__(self, mol_graphs):\n",
    "        self.mol_graphs = mol_graphs\n",
    "        self.n_atoms = 0\n",
    "        self.n_bonds = 0\n",
    "        self.a_scope = []\n",
    "        self.b_scope = []\n",
    "        f_atoms, f_bonds = [], []\n",
    "        f_atoms_pca, f_bonds_pca = [], []\n",
    "        f_atoms_id, f_bonds_id = [], []\n",
    "\n",
    "        for mol_graph in self.mol_graphs:  # for each molecule graph\n",
    "            f_atoms.extend(mol_graph.f_atoms)\n",
    "            f_bonds.extend(mol_graph.f_bonds)\n",
    "            f_atoms_pca.extend(mol_graph.f_atoms_pca)\n",
    "            f_bonds_pca.extend(mol_graph.f_bonds_pca)\n",
    "\n",
    "            f_atoms_id.extend(mol_graph.mol_id_atoms)\n",
    "            f_bonds_id.extend(mol_graph.mol_id_bonds)\n",
    "\n",
    "            self.a_scope.append((self.n_atoms, mol_graph.n_atoms))\n",
    "            self.b_scope.append((self.n_bonds, mol_graph.n_bonds))\n",
    "            self.n_atoms += mol_graph.n_atoms\n",
    "            self.n_bonds += mol_graph.n_bonds\n",
    "\n",
    "        self.f_atoms = f_atoms\n",
    "        self.f_bonds = f_bonds\n",
    "        self.f_atoms_pca = f_atoms_pca\n",
    "        self.f_bonds_pca = f_bonds_pca\n",
    "        self.f_atoms_id = f_atoms_id\n",
    "        self.f_bonds_id = f_bonds_id\n"
   ]
  },
  {
   "cell_type": "code",
   "execution_count": 9,
   "id": "dae77a99",
   "metadata": {},
   "outputs": [],
   "source": [
    "def mol2local(mols, onehot=False, pca=False, ids=None):\n",
    "    if ids is not None:\n",
    "        return BatchLocalFeatures([LocalFeatures(mol, onehot, pca, iid) for mol, iid in zip(mols, ids)])\n",
    "    else:\n",
    "        return BatchLocalFeatures([LocalFeatures(mol, onehot, pca, ids) for mol in mols])"
   ]
  },
  {
   "cell_type": "code",
   "execution_count": 10,
   "id": "bf118a03",
   "metadata": {},
   "outputs": [
    {
     "name": "stdout",
     "output_type": "stream",
     "text": [
      "Done!\n"
     ]
    }
   ],
   "source": [
    "if __name__ == '__main__':\n",
    "    molecules = pd.read_csv(\"compound-annotation.csv\", sep=\",\")\n",
    "    molecules = molecules[molecules[\"SMILES\"].notna()]\n",
    "    molecules = molecules.drop_duplicates(subset=['SMILES'], ignore_index=True)\n",
    "    data = molecules\n",
    "    \n",
    "    #Get the 200 Descriptors for each molecules\n",
    "    data_smiles = data[[\"SMILES\"]]\n",
    "    data_smiles.to_csv('smiles.csv', index=False)\n",
    "    suppl = Chem.SmilesMolSupplier('smiles.csv', nameColumn = 0)\n",
    "    mols = [m for m in suppl]\n",
    "    allDescrs = [getMolDescriptors(m) for m in mols] #this step takes a lot of computational time\n",
    "    df_200Descriptors = pd.DataFrame(allDescrs)\n",
    "    df_200Descriptors.to_csv('SMILES_200Features.csv', index=False)\n",
    " \n",
    "    data_smiles = data['SMILES'].values.tolist()\n",
    "    data_id = data['compound_stem']\n",
    "    res = mol2local(data_smiles, onehot=True, pca=True, ids=data_id)\n",
    "    f_atoms_pca = pd.DataFrame(res.f_atoms_pca)\n",
    "    f_bonds_pca = pd.DataFrame(res.f_bonds_pca)\n",
    "    f_atoms_pca.to_csv('atom_features_PCA.csv', index=False)\n",
    "    f_bonds_pca.to_csv('bond_features_PCA.csv', index=False)\n",
    "\n",
    "    print('Done!')\n"
   ]
  },
  {
   "cell_type": "markdown",
   "id": "cbac025e",
   "metadata": {},
   "source": [
    "### Open the files created before"
   ]
  },
  {
   "cell_type": "code",
   "execution_count": 11,
   "id": "37a9cafb",
   "metadata": {},
   "outputs": [],
   "source": [
    "atom_features = pd.read_csv('atom_features_PCA.csv', sep=\",\")\n",
    "\n",
    "bond_features = pd.read_csv('bond_features_PCA.csv', sep=\",\")\n",
    "\n",
    "smilesF = pd.read_csv('SMILES_200Features.csv')"
   ]
  },
  {
   "cell_type": "markdown",
   "id": "6ec86b27",
   "metadata": {},
   "source": [
    "### Normalization of the 200 Descriptors feature"
   ]
  },
  {
   "cell_type": "code",
   "execution_count": 12,
   "id": "578c42a3",
   "metadata": {},
   "outputs": [],
   "source": [
    "sheader = []\n",
    "\n",
    "smilesF = smilesF.fillna(0)\n",
    "\n",
    "sheader = list(smilesF.columns.values)\n",
    "scaler = preprocessing.StandardScaler()\n",
    "scaled = scaler.fit_transform(smilesF)\n",
    "scaled_df = pd.DataFrame(scaled, columns = sheader)"
   ]
  },
  {
   "cell_type": "code",
   "execution_count": 13,
   "id": "3357c8c8",
   "metadata": {},
   "outputs": [
    {
     "data": {
      "text/plain": [
       "(47217, 208)"
      ]
     },
     "execution_count": 13,
     "metadata": {},
     "output_type": "execute_result"
    }
   ],
   "source": [
    "scaled_df.shape"
   ]
  },
  {
   "cell_type": "markdown",
   "id": "1b4bcf72",
   "metadata": {},
   "source": [
    "### Second ACP on the reunion of the Atomic & Bond Matrix"
   ]
  },
  {
   "cell_type": "code",
   "execution_count": 14,
   "id": "cfb549a1",
   "metadata": {},
   "outputs": [],
   "source": [
    "atom_features = atom_features.add_prefix('A_')\n",
    "\n",
    "bond_features = bond_features.add_prefix('B_')\n",
    "\n",
    "for i in range(0,12):\n",
    "    i = str(i)\n",
    "    column = 'B_'+i\n",
    "    b1 = bond_features[column]\n",
    "  \n",
    "    name = column\n",
    "    i = int(i)\n",
    "    atom_features.insert(i,name,b1)\n",
    "\n",
    "header_smilesf = []\n",
    "header_smilesf = list(smilesF.columns.values)\n",
    "\n",
    "second_pca = PCA(n_components = 50) \n",
    "data_atom_pca = second_pca.fit_transform(atom_features)"
   ]
  },
  {
   "cell_type": "markdown",
   "id": "5692493a",
   "metadata": {},
   "source": [
    "### Creation of the final feature Matrix (which will be used for the trianing of the different models in the following)\n"
   ]
  },
  {
   "cell_type": "code",
   "execution_count": 15,
   "id": "574ee012",
   "metadata": {},
   "outputs": [],
   "source": [
    "pcaNames = []\n",
    "for p in range(1,51):\n",
    "    pc = str(p)\n",
    "    pca = 'PCA'+pc\n",
    "    pcaNames.append(pca)\n",
    "\n",
    "\n",
    "data_atom_pca = pd.DataFrame(data=data_atom_pca, columns=pcaNames)\n",
    "\n",
    "j = 0\n",
    "for col in pcaNames:\n",
    "    col_data = data_atom_pca[col]\n",
    "    scaled_df.insert(j, col, col_data)\n",
    "    j = j+1\n",
    "\n",
    "features = scaled_df.to_numpy()"
   ]
  },
  {
   "cell_type": "code",
   "execution_count": 16,
   "id": "8125a01c",
   "metadata": {},
   "outputs": [
    {
     "data": {
      "text/plain": [
       "(47217, 258)"
      ]
     },
     "execution_count": 16,
     "metadata": {},
     "output_type": "execute_result"
    }
   ],
   "source": [
    "features.shape"
   ]
  },
  {
   "cell_type": "markdown",
   "id": "660bb0c3",
   "metadata": {},
   "source": [
    "### Filtering the feature matrix by delating the 0-variance feature"
   ]
  },
  {
   "cell_type": "code",
   "execution_count": 17,
   "id": "04988596",
   "metadata": {},
   "outputs": [],
   "source": [
    "sel = VarianceThreshold(0)\n",
    "cleaned = sel.fit_transform(features)"
   ]
  },
  {
   "cell_type": "code",
   "execution_count": 18,
   "id": "a5bcf1b7",
   "metadata": {},
   "outputs": [],
   "source": [
    "cleaned_df = pd.DataFrame(cleaned)\n",
    "cleaned_df.to_csv('cleaned.csv', index=False)"
   ]
  }
 ],
 "metadata": {
  "kernelspec": {
   "display_name": "Python 3 (ipykernel)",
   "language": "python",
   "name": "python3"
  },
  "language_info": {
   "codemirror_mode": {
    "name": "ipython",
    "version": 3
   },
   "file_extension": ".py",
   "mimetype": "text/x-python",
   "name": "python",
   "nbconvert_exporter": "python",
   "pygments_lexer": "ipython3",
   "version": "3.11.4"
  }
 },
 "nbformat": 4,
 "nbformat_minor": 5
}
